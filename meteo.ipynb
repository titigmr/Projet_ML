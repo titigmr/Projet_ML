{
 "cells": [
  {
   "cell_type": "code",
   "execution_count": 1,
   "metadata": {},
   "outputs": [],
   "source": [
    "import os\n",
    "import numpy as np\n",
    "import pandas as pd\n",
    "import matplotlib.pyplot as plt\n",
    "import problem\n",
    "import warnings\n",
    "import glob\n",
    "import re\n",
    "pd.set_option('display.max_columns', None)\n",
    "warnings.filterwarnings(\"ignore\")"
   ]
  },
  {
   "cell_type": "code",
   "execution_count": 2,
   "metadata": {},
   "outputs": [],
   "source": [
    "external_data = pd.read_csv('submissions/submit/external_data.csv', \n",
    "                            index_col=0)"
   ]
  },
  {
   "cell_type": "code",
   "execution_count": 3,
   "metadata": {},
   "outputs": [
    {
     "data": {
      "text/plain": [
       "CloudCover       0\n",
       "Events        6745\n",
       "dtype: int64"
      ]
     },
     "execution_count": 3,
     "metadata": {},
     "output_type": "execute_result"
    }
   ],
   "source": [
    "external_data[[\"CloudCover\",\"Events\"]].isnull().sum()"
   ]
  },
  {
   "cell_type": "code",
   "execution_count": 4,
   "metadata": {
    "scrolled": true
   },
   "outputs": [],
   "source": [
    "def fix_events_column(data_weather):\n",
    "    events_cloud = data_weather[[\"CloudCover\",\"Events\"]].fillna(value=\"other\")\n",
    "    \n",
    "    sun_index = ((events_cloud['Events'] == \"other\") \n",
    "    & (events_cloud['CloudCover'] <= 4))\n",
    "    \n",
    "    cloudy_index = ((events_cloud['Events'] == \"other\") \n",
    "    & (events_cloud['CloudCover'] > 4))\n",
    "    \n",
    "    data_weather[\"Events\"][cloudy_index]= \"Cloud\"\n",
    "    data_weather[\"Events\"][sun_index]= \"Sun\"\n",
    "    \n",
    "    events = data_weather[\"Events\"]\n",
    "    extrem_weather_index = ((events == \"Rain-Thunderstorm-Tornado\") ^ \n",
    "    (events == \"Fog-Rain-Snow-Thunderstorm\") ^ \n",
    "    (events == \"Rain-Snow-Thunderstorm\") ^ \\\n",
    "    (events == \"Fog-Rain-Hail-Thunderstorm\") ^ \n",
    "    (events == \"Rain-Hail-Thunderstorm\")^ \n",
    "    (events == \"Fog-Rain-Thunderstorm\")^ \n",
    "    (events == \"Rain-Thunderstorm\")^ \n",
    "    (events == \"Thunderstorm\"))\n",
    "    data_weather[\"Events\"][extrem_weather_index] = \"Extrem\"\n",
    "    \n",
    "    snow_index = ((events == \"Rain-Snow\") ^ \n",
    "    (events == \"Fog-Snow\") ^ \n",
    "    (events == \"Fog-Rain-Snow\")^ \n",
    "    (events == \"Snow\"))\n",
    "    \n",
    "    data_weather[\"Events\"][snow_index]= \"Snow\"\n",
    "    \n",
    "    fog_index = ((events == \"Fog\") \n",
    "    ^ (events == \"Fog-Rain\"))\n",
    "    \n",
    "    data_weather[\"Events\"][fog_index]= \"Fog\"\n",
    "    \n",
    "    return data_weather"
   ]
  },
  {
   "cell_type": "code",
   "execution_count": 5,
   "metadata": {},
   "outputs": [
    {
     "data": {
      "text/plain": [
       "Sun       4756\n",
       "Rain      2171\n",
       "Cloud     1989\n",
       "Extrem     812\n",
       "Fog        739\n",
       "Snow       573\n",
       "Name: Events, dtype: int64"
      ]
     },
     "execution_count": 5,
     "metadata": {},
     "output_type": "execute_result"
    }
   ],
   "source": [
    "fix_events_column(external_data)[\"Events\"].value_counts()"
   ]
  },
  {
   "cell_type": "code",
   "execution_count": 6,
   "metadata": {},
   "outputs": [],
   "source": [
    "def fix_gust_speed(data_weather):\n",
    "    gust_speed = data_weather[\"Max Gust SpeedKm/h\"]\n",
    "    gust_speed = gust_speed.fillna(value=\"other\")\n",
    "    index = (gust_speed == \"other\")\n",
    "    data_weather[\"Max Gust SpeedKm/h\"][index] = data_weather[\"Max Wind SpeedKm/h\"][index].astype(float)\n",
    "    \n",
    "    return data_weather"
   ]
  },
  {
   "cell_type": "code",
   "execution_count": 7,
   "metadata": {},
   "outputs": [],
   "source": [
    "external_data = fix_events_column(external_data)"
   ]
  },
  {
   "cell_type": "code",
   "execution_count": 8,
   "metadata": {},
   "outputs": [],
   "source": [
    "external_data = fix_gust_speed(external_data)"
   ]
  },
  {
   "cell_type": "code",
   "execution_count": 9,
   "metadata": {},
   "outputs": [],
   "source": [
    "external_data = external_data.drop(columns=\"Precipitationmm\")"
   ]
  },
  {
   "cell_type": "code",
   "execution_count": 11,
   "metadata": {},
   "outputs": [],
   "source": [
    "external_data.to_csv('submissions/submit/external_data.csv')"
   ]
  }
 ],
 "metadata": {
  "kernelspec": {
   "display_name": "Python 3",
   "language": "python",
   "name": "python3"
  },
  "language_info": {
   "codemirror_mode": {
    "name": "ipython",
    "version": 3
   },
   "file_extension": ".py",
   "mimetype": "text/x-python",
   "name": "python",
   "nbconvert_exporter": "python",
   "pygments_lexer": "ipython3",
   "version": "3.7.4"
  }
 },
 "nbformat": 4,
 "nbformat_minor": 2
}
