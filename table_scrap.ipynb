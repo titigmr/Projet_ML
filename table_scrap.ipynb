{
 "cells": [
  {
   "cell_type": "code",
   "execution_count": 1,
   "metadata": {},
   "outputs": [],
   "source": [
    "from bs4 import BeautifulSoup\n",
    "import requests\n",
    "import numpy as np\n",
    "import pandas as pd\n",
    "import selenium\n",
    "from selenium import webdriver\n",
    "from selenium.webdriver.common.keys import Keys\n",
    "import time"
   ]
  },
  {
   "cell_type": "code",
   "execution_count": 2,
   "metadata": {},
   "outputs": [],
   "source": [
    "airport = ['DFW','LAX','ORD','DEN','MCO','IAH','MIA','ATL','LGA','SEA','PHX','CLT',\n",
    " 'DTW','LAS','EWR','MSP','BOS','PHL','SFO','JFK']"
   ]
  },
  {
   "cell_type": "code",
   "execution_count": 3,
   "metadata": {},
   "outputs": [],
   "source": [
    "url = 'https://www.transtats.bts.gov/Data_Elements.aspx?Data=1'"
   ]
  },
  {
   "cell_type": "code",
   "execution_count": 23,
   "metadata": {},
   "outputs": [],
   "source": [
    "def get_table(html, name, direction):\n",
    "    \n",
    "    soup = BeautifulSoup(html, 'lxml')\n",
    "    table = soup.find(id='GridView1')\n",
    "    with open ('data/data_passengers/{}_'.format(name) + direction +'.txt',\"w\") as r:\n",
    "        r.write(('Year').ljust(20))\n",
    "        r.write(('Month').ljust(20))\n",
    "        r.write(('DOM').ljust(20)) \n",
    "        r.write(('INTER').ljust(20)) \n",
    "        r.write(('TOTAL').ljust(20)) \n",
    "        for row in table.find_all('tr') :\n",
    "            for cell in row.find_all('td'):\n",
    "                r.write(cell.text.ljust(20))\n",
    "            r.write(\"\\n\")"
   ]
  },
  {
   "cell_type": "code",
   "execution_count": 24,
   "metadata": {
    "scrolled": true
   },
   "outputs": [],
   "source": [
    "\n",
    "def init(url, airport, origin=True):\n",
    "    \n",
    "    driver = webdriver.Chrome()\n",
    "    driver.get(url)\n",
    "    if (origin):\n",
    "        direction = 'origin'\n",
    "        driver.find_element_by_xpath('//*[@id=\"Link_Origin\"]').click()\n",
    "    else : \n",
    "        direction = 'destination'\n",
    "        driver.find_element_by_xpath('//*[@id=\"Link_Destination\"]').click()\n",
    "        \n",
    "    \n",
    "    for n,airp in enumerate(airport):\n",
    "        print('Aero :', airp)\n",
    "        element = driver.find_element_by_name(\"AirportList\")\n",
    "        all_options = element.find_elements_by_tag_name(\"option\")\n",
    "\n",
    "        for option in all_options:\n",
    "            if option.get_attribute(\"value\") == str(airp):\n",
    "                option.click()\n",
    "                break\n",
    "        driver.find_element_by_xpath('//*[@id=\"Submit\"]').click()\n",
    "        html = driver.page_source\n",
    "        get_table(html,airp, direction)"
   ]
  },
  {
   "cell_type": "code",
   "execution_count": 25,
   "metadata": {},
   "outputs": [
    {
     "name": "stdout",
     "output_type": "stream",
     "text": [
      "Aero : DFW\n",
      "Aero : LAX\n",
      "Aero : ORD\n",
      "Aero : DEN\n",
      "Aero : MCO\n",
      "Aero : IAH\n",
      "Aero : MIA\n",
      "Aero : ATL\n",
      "Aero : LGA\n",
      "Aero : SEA\n",
      "Aero : PHX\n",
      "Aero : CLT\n",
      "Aero : DTW\n",
      "Aero : LAS\n",
      "Aero : EWR\n",
      "Aero : MSP\n",
      "Aero : BOS\n",
      "Aero : PHL\n",
      "Aero : SFO\n",
      "Aero : JFK\n"
     ]
    }
   ],
   "source": [
    "init(url,airport,origin=False)"
   ]
  },
  {
   "cell_type": "code",
   "execution_count": null,
   "metadata": {},
   "outputs": [],
   "source": [
    "driver.close()"
   ]
  },
  {
   "cell_type": "code",
   "execution_count": 26,
   "metadata": {},
   "outputs": [
    {
     "name": "stdout",
     "output_type": "stream",
     "text": [
      "Aero : DFW\n",
      "Aero : LAX\n",
      "Aero : ORD\n",
      "Aero : DEN\n",
      "Aero : MCO\n",
      "Aero : IAH\n",
      "Aero : MIA\n",
      "Aero : ATL\n",
      "Aero : LGA\n",
      "Aero : SEA\n",
      "Aero : PHX\n",
      "Aero : CLT\n",
      "Aero : DTW\n",
      "Aero : LAS\n",
      "Aero : EWR\n",
      "Aero : MSP\n",
      "Aero : BOS\n",
      "Aero : PHL\n",
      "Aero : SFO\n",
      "Aero : JFK\n"
     ]
    }
   ],
   "source": [
    "init(url,airport)"
   ]
  },
  {
   "cell_type": "code",
   "execution_count": null,
   "metadata": {},
   "outputs": [],
   "source": [
    "driver.close()"
   ]
  }
 ],
 "metadata": {
  "kernelspec": {
   "display_name": "Python 3",
   "language": "python",
   "name": "python3"
  },
  "language_info": {
   "codemirror_mode": {
    "name": "ipython",
    "version": 3
   },
   "file_extension": ".py",
   "mimetype": "text/x-python",
   "name": "python",
   "nbconvert_exporter": "python",
   "pygments_lexer": "ipython3",
   "version": "3.7.4"
  }
 },
 "nbformat": 4,
 "nbformat_minor": 2
}
